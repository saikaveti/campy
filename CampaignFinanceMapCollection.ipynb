{
 "cells": [
  {
   "cell_type": "code",
   "execution_count": 16,
   "metadata": {
    "collapsed": true
   },
   "outputs": [],
   "source": [
    "from campy.summary_data_race import summary_data_race\n",
    "\n",
    "import json\n",
    "import numpy as np\n",
    "import pandas as pd\n",
    "import time"
   ]
  },
  {
   "cell_type": "code",
   "execution_count": 17,
   "metadata": {
    "collapsed": false
   },
   "outputs": [
    {
     "data": {
      "text/html": [
       "<div>\n",
       "<style scoped>\n",
       "    .dataframe tbody tr th:only-of-type {\n",
       "        vertical-align: middle;\n",
       "    }\n",
       "\n",
       "    .dataframe tbody tr th {\n",
       "        vertical-align: top;\n",
       "    }\n",
       "\n",
       "    .dataframe thead th {\n",
       "        text-align: right;\n",
       "    }\n",
       "</style>\n",
       "<table border=\"1\" class=\"dataframe\">\n",
       "  <thead>\n",
       "    <tr style=\"text-align: right;\">\n",
       "      <th></th>\n",
       "      <th>Candidate</th>\n",
       "      <th>Raised</th>\n",
       "      <th>Spent</th>\n",
       "      <th>Cash on Hand</th>\n",
       "      <th>Last Report</th>\n",
       "    </tr>\n",
       "  </thead>\n",
       "  <tbody>\n",
       "    <tr>\n",
       "      <th>0</th>\n",
       "      <td>Steve Watkins (R)</td>\n",
       "      <td>$860,846</td>\n",
       "      <td>$457,616</td>\n",
       "      <td>$437,819</td>\n",
       "      <td>03/31/2020</td>\n",
       "    </tr>\n",
       "    <tr>\n",
       "      <th>1</th>\n",
       "      <td>Jake Laturner (R)</td>\n",
       "      <td>$681,768</td>\n",
       "      <td>$110,121</td>\n",
       "      <td>$571,647</td>\n",
       "      <td>03/31/2020</td>\n",
       "    </tr>\n",
       "    <tr>\n",
       "      <th>2</th>\n",
       "      <td>Michelle De La Isla (D)</td>\n",
       "      <td>$337,662</td>\n",
       "      <td>$70,732</td>\n",
       "      <td>$266,930</td>\n",
       "      <td>03/31/2020</td>\n",
       "    </tr>\n",
       "  </tbody>\n",
       "</table>\n",
       "</div>"
      ],
      "text/plain": [
       "                 Candidate    Raised     Spent Cash on Hand Last Report\n",
       "0        Steve Watkins (R)  $860,846  $457,616     $437,819  03/31/2020\n",
       "1        Jake Laturner (R)  $681,768  $110,121     $571,647  03/31/2020\n",
       "2  Michelle De La Isla (D)  $337,662   $70,732     $266,930  03/31/2020"
      ]
     },
     "execution_count": 17,
     "metadata": {},
     "output_type": "execute_result"
    }
   ],
   "source": [
    "summary_data_race(\"KS\", \"02\", \"2020\")"
   ]
  },
  {
   "cell_type": "code",
   "execution_count": 18,
   "metadata": {
    "collapsed": true
   },
   "outputs": [],
   "source": [
    "district_counts = {\"AL\": 7, \"AK\": 1, \"AZ\": 9, \"AR\": 4, \"CA\": 53, \"CO\": 7, \"CT\": 5, \"DE\": 1, \"FL\": 27, \"GA\": 14,\n",
    "                   \"HI\": 2, \"ID\": 2, \"IL\": 18, \"IN\": 9, \"IA\": 4, \"KS\": 4, \"KY\": 6, \"LA\": 6, \"ME\": 2, \"MD\": 8,\n",
    "                   \"MA\": 9, \"MI\": 14, \"MN\": 8, \"MS\": 4, \"MO\": 8, \"MT\": 1, \"NE\": 3, \"NV\": 4, \"NH\": 2, \"NJ\": 12,\n",
    "                   \"NM\": 3, \"NY\": 27, \"NC\": 13, \"ND\": 1, \"OH\": 16, \"OK\": 5, \"OR\": 5, \"PA\": 18, \"RI\": 2, \"SC\": 7,\n",
    "                   \"SD\": 1, \"TN\": 9, \"TX\": 36, \"UT\": 4, \"VT\": 1, \"VA\": 11, \"WA\": 10, \"WV\": 3, \"WI\": 8, \"WY\": 1}"
   ]
  },
  {
   "cell_type": "code",
   "execution_count": 19,
   "metadata": {
    "collapsed": true
   },
   "outputs": [],
   "source": [
    "def sum_dollars_columns(column):\n",
    "    sum = 0.0\n",
    "    for amount in column:\n",
    "        amount = amount.replace('$', '')\n",
    "        sum += float(''.join(amount.split(',')))\n",
    "    return sum"
   ]
  },
  {
   "cell_type": "code",
   "execution_count": 20,
   "metadata": {
    "collapsed": false
   },
   "outputs": [
    {
     "data": {
      "text/html": [
       "<div>\n",
       "<style scoped>\n",
       "    .dataframe tbody tr th:only-of-type {\n",
       "        vertical-align: middle;\n",
       "    }\n",
       "\n",
       "    .dataframe tbody tr th {\n",
       "        vertical-align: top;\n",
       "    }\n",
       "\n",
       "    .dataframe thead th {\n",
       "        text-align: right;\n",
       "    }\n",
       "</style>\n",
       "<table border=\"1\" class=\"dataframe\">\n",
       "  <thead>\n",
       "    <tr style=\"text-align: right;\">\n",
       "      <th></th>\n",
       "      <th>District</th>\n",
       "      <th>Raised</th>\n",
       "      <th>At-Large</th>\n",
       "    </tr>\n",
       "  </thead>\n",
       "  <tbody>\n",
       "    <tr>\n",
       "      <th>0</th>\n",
       "      <td>AL01</td>\n",
       "      <td>2478634.0</td>\n",
       "      <td>0.0</td>\n",
       "    </tr>\n",
       "    <tr>\n",
       "      <th>0</th>\n",
       "      <td>AL02</td>\n",
       "      <td>2410397.0</td>\n",
       "      <td>0.0</td>\n",
       "    </tr>\n",
       "    <tr>\n",
       "      <th>0</th>\n",
       "      <td>AL03</td>\n",
       "      <td>814261.0</td>\n",
       "      <td>0.0</td>\n",
       "    </tr>\n",
       "    <tr>\n",
       "      <th>0</th>\n",
       "      <td>AL04</td>\n",
       "      <td>755666.0</td>\n",
       "      <td>0.0</td>\n",
       "    </tr>\n",
       "    <tr>\n",
       "      <th>0</th>\n",
       "      <td>AL05</td>\n",
       "      <td>346456.0</td>\n",
       "      <td>0.0</td>\n",
       "    </tr>\n",
       "    <tr>\n",
       "      <th>0</th>\n",
       "      <td>AL06</td>\n",
       "      <td>671829.0</td>\n",
       "      <td>0.0</td>\n",
       "    </tr>\n",
       "    <tr>\n",
       "      <th>0</th>\n",
       "      <td>AL07</td>\n",
       "      <td>1395268.0</td>\n",
       "      <td>0.0</td>\n",
       "    </tr>\n",
       "    <tr>\n",
       "      <th>0</th>\n",
       "      <td>AK01</td>\n",
       "      <td>2322104.0</td>\n",
       "      <td>1.0</td>\n",
       "    </tr>\n",
       "    <tr>\n",
       "      <th>0</th>\n",
       "      <td>AZ01</td>\n",
       "      <td>2340403.0</td>\n",
       "      <td>0.0</td>\n",
       "    </tr>\n",
       "    <tr>\n",
       "      <th>0</th>\n",
       "      <td>AZ02</td>\n",
       "      <td>1864776.0</td>\n",
       "      <td>0.0</td>\n",
       "    </tr>\n",
       "  </tbody>\n",
       "</table>\n",
       "</div>"
      ],
      "text/plain": [
       "  District     Raised  At-Large\n",
       "0     AL01  2478634.0       0.0\n",
       "0     AL02  2410397.0       0.0\n",
       "0     AL03   814261.0       0.0\n",
       "0     AL04   755666.0       0.0\n",
       "0     AL05   346456.0       0.0\n",
       "0     AL06   671829.0       0.0\n",
       "0     AL07  1395268.0       0.0\n",
       "0     AK01  2322104.0       1.0\n",
       "0     AZ01  2340403.0       0.0\n",
       "0     AZ02  1864776.0       0.0"
      ]
     },
     "execution_count": 20,
     "metadata": {},
     "output_type": "execute_result"
    }
   ],
   "source": [
    "df = pd.DataFrame({'District': [], 'Raised': [], 'At-Large': []})\n",
    "for state in district_counts:\n",
    "    for district in range(1, district_counts[state] + 1):\n",
    "        race_df = summary_data_race(state, \"{:02d}\".format(district), \"2020\")\n",
    "        raised_list = race_df['Raised']\n",
    "        sum = sum_dollars_columns(raised_list)\n",
    "        row = pd.DataFrame({\"District\":[state + \"{:02d}\".format(district)], \"Raised\":[sum], \"At-Large\":[district_counts[state] == 1]}) \n",
    "        df = df.append(row)\n",
    "        time.sleep(0.5)\n",
    "df.head(10)"
   ]
  },
  {
   "cell_type": "code",
   "execution_count": 7,
   "metadata": {
    "collapsed": false
   },
   "outputs": [
    {
     "data": {
      "text/html": [
       "<div>\n",
       "<style scoped>\n",
       "    .dataframe tbody tr th:only-of-type {\n",
       "        vertical-align: middle;\n",
       "    }\n",
       "\n",
       "    .dataframe tbody tr th {\n",
       "        vertical-align: top;\n",
       "    }\n",
       "\n",
       "    .dataframe thead th {\n",
       "        text-align: right;\n",
       "    }\n",
       "</style>\n",
       "<table border=\"1\" class=\"dataframe\">\n",
       "  <thead>\n",
       "    <tr style=\"text-align: right;\">\n",
       "      <th></th>\n",
       "      <th>District</th>\n",
       "      <th>Raised</th>\n",
       "      <th>At-Large</th>\n",
       "    </tr>\n",
       "  </thead>\n",
       "  <tbody>\n",
       "    <tr>\n",
       "      <th>0</th>\n",
       "      <td>IN04</td>\n",
       "      <td>209212.0</td>\n",
       "      <td>0.0</td>\n",
       "    </tr>\n",
       "    <tr>\n",
       "      <th>0</th>\n",
       "      <td>TN04</td>\n",
       "      <td>220100.0</td>\n",
       "      <td>0.0</td>\n",
       "    </tr>\n",
       "    <tr>\n",
       "      <th>0</th>\n",
       "      <td>FL24</td>\n",
       "      <td>222406.0</td>\n",
       "      <td>0.0</td>\n",
       "    </tr>\n",
       "    <tr>\n",
       "      <th>0</th>\n",
       "      <td>LA05</td>\n",
       "      <td>236415.0</td>\n",
       "      <td>0.0</td>\n",
       "    </tr>\n",
       "    <tr>\n",
       "      <th>0</th>\n",
       "      <td>CO04</td>\n",
       "      <td>247515.0</td>\n",
       "      <td>0.0</td>\n",
       "    </tr>\n",
       "    <tr>\n",
       "      <th>0</th>\n",
       "      <td>FL20</td>\n",
       "      <td>265958.0</td>\n",
       "      <td>0.0</td>\n",
       "    </tr>\n",
       "    <tr>\n",
       "      <th>0</th>\n",
       "      <td>FL02</td>\n",
       "      <td>283730.0</td>\n",
       "      <td>0.0</td>\n",
       "    </tr>\n",
       "    <tr>\n",
       "      <th>0</th>\n",
       "      <td>ME01</td>\n",
       "      <td>285721.0</td>\n",
       "      <td>0.0</td>\n",
       "    </tr>\n",
       "    <tr>\n",
       "      <th>0</th>\n",
       "      <td>IL01</td>\n",
       "      <td>309163.0</td>\n",
       "      <td>0.0</td>\n",
       "    </tr>\n",
       "    <tr>\n",
       "      <th>0</th>\n",
       "      <td>ID01</td>\n",
       "      <td>315524.0</td>\n",
       "      <td>0.0</td>\n",
       "    </tr>\n",
       "  </tbody>\n",
       "</table>\n",
       "</div>"
      ],
      "text/plain": [
       "  District    Raised  At-Large\n",
       "0     IN04  209212.0       0.0\n",
       "0     TN04  220100.0       0.0\n",
       "0     FL24  222406.0       0.0\n",
       "0     LA05  236415.0       0.0\n",
       "0     CO04  247515.0       0.0\n",
       "0     FL20  265958.0       0.0\n",
       "0     FL02  283730.0       0.0\n",
       "0     ME01  285721.0       0.0\n",
       "0     IL01  309163.0       0.0\n",
       "0     ID01  315524.0       0.0"
      ]
     },
     "execution_count": 7,
     "metadata": {},
     "output_type": "execute_result"
    }
   ],
   "source": [
    "sorted_df = df.sort_values(by=['Raised'])\n",
    "sorted_df.head(10)"
   ]
  },
  {
   "cell_type": "code",
   "execution_count": 8,
   "metadata": {
    "collapsed": false
   },
   "outputs": [
    {
     "data": {
      "text/plain": [
       "<matplotlib.axes._subplots.AxesSubplot at 0x112622518>"
      ]
     },
     "execution_count": 8,
     "metadata": {},
     "output_type": "execute_result"
    }
   ],
   "source": [
    "ax = df.loc[df['Raised'] <= 7000000]['Raised'].plot.hist(bins=14, alpha=0.5)\n",
    "ax"
   ]
  },
  {
   "cell_type": "code",
   "execution_count": 9,
   "metadata": {
    "collapsed": false
   },
   "outputs": [
    {
     "data": {
      "text/html": [
       "<div>\n",
       "<style scoped>\n",
       "    .dataframe tbody tr th:only-of-type {\n",
       "        vertical-align: middle;\n",
       "    }\n",
       "\n",
       "    .dataframe tbody tr th {\n",
       "        vertical-align: top;\n",
       "    }\n",
       "\n",
       "    .dataframe thead th {\n",
       "        text-align: right;\n",
       "    }\n",
       "</style>\n",
       "<table border=\"1\" class=\"dataframe\">\n",
       "  <thead>\n",
       "    <tr style=\"text-align: right;\">\n",
       "      <th></th>\n",
       "      <th>District</th>\n",
       "      <th>Raised</th>\n",
       "      <th>At-Large</th>\n",
       "      <th>Bin</th>\n",
       "    </tr>\n",
       "  </thead>\n",
       "  <tbody>\n",
       "    <tr>\n",
       "      <th>1</th>\n",
       "      <td>AL01</td>\n",
       "      <td>2478634.0</td>\n",
       "      <td>0.0</td>\n",
       "      <td>&lt;$2,500,000</td>\n",
       "    </tr>\n",
       "    <tr>\n",
       "      <th>2</th>\n",
       "      <td>AL02</td>\n",
       "      <td>2410397.0</td>\n",
       "      <td>0.0</td>\n",
       "      <td>&lt;$2,500,000</td>\n",
       "    </tr>\n",
       "    <tr>\n",
       "      <th>3</th>\n",
       "      <td>AL03</td>\n",
       "      <td>814261.0</td>\n",
       "      <td>0.0</td>\n",
       "      <td>&lt;$1,000,000</td>\n",
       "    </tr>\n",
       "    <tr>\n",
       "      <th>4</th>\n",
       "      <td>AL04</td>\n",
       "      <td>755666.0</td>\n",
       "      <td>0.0</td>\n",
       "      <td>&lt;$1,000,000</td>\n",
       "    </tr>\n",
       "    <tr>\n",
       "      <th>5</th>\n",
       "      <td>AL05</td>\n",
       "      <td>346456.0</td>\n",
       "      <td>0.0</td>\n",
       "      <td>&lt;$500,000</td>\n",
       "    </tr>\n",
       "    <tr>\n",
       "      <th>6</th>\n",
       "      <td>AL06</td>\n",
       "      <td>671829.0</td>\n",
       "      <td>0.0</td>\n",
       "      <td>&lt;$1,000,000</td>\n",
       "    </tr>\n",
       "    <tr>\n",
       "      <th>7</th>\n",
       "      <td>AL07</td>\n",
       "      <td>1395268.0</td>\n",
       "      <td>0.0</td>\n",
       "      <td>&lt;$1,500,000</td>\n",
       "    </tr>\n",
       "    <tr>\n",
       "      <th>8</th>\n",
       "      <td>AK01</td>\n",
       "      <td>2322104.0</td>\n",
       "      <td>1.0</td>\n",
       "      <td>&lt;$2,500,000</td>\n",
       "    </tr>\n",
       "    <tr>\n",
       "      <th>9</th>\n",
       "      <td>AZ01</td>\n",
       "      <td>2340403.0</td>\n",
       "      <td>0.0</td>\n",
       "      <td>&lt;$2,500,000</td>\n",
       "    </tr>\n",
       "    <tr>\n",
       "      <th>10</th>\n",
       "      <td>AZ02</td>\n",
       "      <td>1864776.0</td>\n",
       "      <td>0.0</td>\n",
       "      <td>&lt;$2,000,000</td>\n",
       "    </tr>\n",
       "  </tbody>\n",
       "</table>\n",
       "</div>"
      ],
      "text/plain": [
       "   District     Raised  At-Large          Bin\n",
       "1      AL01  2478634.0       0.0  <$2,500,000\n",
       "2      AL02  2410397.0       0.0  <$2,500,000\n",
       "3      AL03   814261.0       0.0  <$1,000,000\n",
       "4      AL04   755666.0       0.0  <$1,000,000\n",
       "5      AL05   346456.0       0.0    <$500,000\n",
       "6      AL06   671829.0       0.0  <$1,000,000\n",
       "7      AL07  1395268.0       0.0  <$1,500,000\n",
       "8      AK01  2322104.0       1.0  <$2,500,000\n",
       "9      AZ01  2340403.0       0.0  <$2,500,000\n",
       "10     AZ02  1864776.0       0.0  <$2,000,000"
      ]
     },
     "execution_count": 9,
     "metadata": {},
     "output_type": "execute_result"
    }
   ],
   "source": [
    "df[\"Bin\"] = \"\"\n",
    "df.index = list(range(1, 436))\n",
    "for index, row in df.iterrows():\n",
    "    if row['Raised'] < 500000:\n",
    "        df.at[index, 'Bin'] = '<$500,000'\n",
    "    elif row['Raised'] < 1000000:\n",
    "        df.at[index, 'Bin'] = '<$1,000,000'\n",
    "    elif row['Raised'] < 1500000:\n",
    "        df.at[index, 'Bin'] = '<$1,500,000'\n",
    "    elif row['Raised'] < 2000000:\n",
    "        df.at[index, 'Bin'] = '<$2,000,000'\n",
    "    elif row['Raised'] < 2500000:\n",
    "        df.at[index, 'Bin'] = '<$2,500,000'\n",
    "    elif row['Raised'] < 3000000:\n",
    "        df.at[index, 'Bin'] = '<$3,000,000'\n",
    "    elif row['Raised'] < 3500000:\n",
    "        df.at[index, 'Bin'] = '<$3,500,000'\n",
    "    elif row['Raised'] < 4000000:\n",
    "        df.at[index, 'Bin'] = '<$4,000,000'\n",
    "    elif row['Raised'] < 4500000:\n",
    "        df.at[index, 'Bin'] = '<$4,500,000'\n",
    "    elif row['Raised'] < 5000000:\n",
    "        df.at[index, 'Bin'] = '<$5,000,000'\n",
    "    elif row['Raised'] < 5500000:\n",
    "        df.at[index, 'Bin'] = '<$5,500,000'\n",
    "    elif row['Raised'] < 6000000:\n",
    "        df.at[index, 'Bin'] = '<$6,000,000'\n",
    "    elif row['Raised'] < 6500000:\n",
    "        df.at[index, 'Bin'] = '<$6,500,000'\n",
    "    elif row['Raised'] < 7000000:\n",
    "        df.at[index, 'Bin'] = '<$7,000,000'\n",
    "    else:\n",
    "        df.at[index, 'Bin'] = '>$7,000,000'\n",
    "df.head(10)"
   ]
  },
  {
   "cell_type": "code",
   "execution_count": 11,
   "metadata": {
    "collapsed": false
   },
   "outputs": [
    {
     "data": {
      "text/html": [
       "<div>\n",
       "<style scoped>\n",
       "    .dataframe tbody tr th:only-of-type {\n",
       "        vertical-align: middle;\n",
       "    }\n",
       "\n",
       "    .dataframe tbody tr th {\n",
       "        vertical-align: top;\n",
       "    }\n",
       "\n",
       "    .dataframe thead th {\n",
       "        text-align: right;\n",
       "    }\n",
       "</style>\n",
       "<table border=\"1\" class=\"dataframe\">\n",
       "  <thead>\n",
       "    <tr style=\"text-align: right;\">\n",
       "      <th></th>\n",
       "      <th>District</th>\n",
       "      <th>Raised</th>\n",
       "      <th>At-Large</th>\n",
       "      <th>Bin</th>\n",
       "    </tr>\n",
       "  </thead>\n",
       "  <tbody>\n",
       "    <tr>\n",
       "      <th>1</th>\n",
       "      <td>AL01</td>\n",
       "      <td>2478634.0</td>\n",
       "      <td>0.0</td>\n",
       "      <td>&lt;$2,500,000</td>\n",
       "    </tr>\n",
       "    <tr>\n",
       "      <th>2</th>\n",
       "      <td>AL02</td>\n",
       "      <td>2410397.0</td>\n",
       "      <td>0.0</td>\n",
       "      <td>&lt;$2,500,000</td>\n",
       "    </tr>\n",
       "    <tr>\n",
       "      <th>3</th>\n",
       "      <td>AL03</td>\n",
       "      <td>814261.0</td>\n",
       "      <td>0.0</td>\n",
       "      <td>&lt;$1,000,000</td>\n",
       "    </tr>\n",
       "    <tr>\n",
       "      <th>4</th>\n",
       "      <td>AL04</td>\n",
       "      <td>755666.0</td>\n",
       "      <td>0.0</td>\n",
       "      <td>&lt;$1,000,000</td>\n",
       "    </tr>\n",
       "    <tr>\n",
       "      <th>5</th>\n",
       "      <td>AL05</td>\n",
       "      <td>346456.0</td>\n",
       "      <td>0.0</td>\n",
       "      <td>&lt;$500,000</td>\n",
       "    </tr>\n",
       "    <tr>\n",
       "      <th>6</th>\n",
       "      <td>AL06</td>\n",
       "      <td>671829.0</td>\n",
       "      <td>0.0</td>\n",
       "      <td>&lt;$1,000,000</td>\n",
       "    </tr>\n",
       "    <tr>\n",
       "      <th>7</th>\n",
       "      <td>AL07</td>\n",
       "      <td>1395268.0</td>\n",
       "      <td>0.0</td>\n",
       "      <td>&lt;$1,500,000</td>\n",
       "    </tr>\n",
       "    <tr>\n",
       "      <th>8</th>\n",
       "      <td>AKAL</td>\n",
       "      <td>2322104.0</td>\n",
       "      <td>1.0</td>\n",
       "      <td>&lt;$2,500,000</td>\n",
       "    </tr>\n",
       "    <tr>\n",
       "      <th>9</th>\n",
       "      <td>AZ01</td>\n",
       "      <td>2340403.0</td>\n",
       "      <td>0.0</td>\n",
       "      <td>&lt;$2,500,000</td>\n",
       "    </tr>\n",
       "    <tr>\n",
       "      <th>10</th>\n",
       "      <td>AZ02</td>\n",
       "      <td>1864776.0</td>\n",
       "      <td>0.0</td>\n",
       "      <td>&lt;$2,000,000</td>\n",
       "    </tr>\n",
       "  </tbody>\n",
       "</table>\n",
       "</div>"
      ],
      "text/plain": [
       "   District     Raised  At-Large          Bin\n",
       "1      AL01  2478634.0       0.0  <$2,500,000\n",
       "2      AL02  2410397.0       0.0  <$2,500,000\n",
       "3      AL03   814261.0       0.0  <$1,000,000\n",
       "4      AL04   755666.0       0.0  <$1,000,000\n",
       "5      AL05   346456.0       0.0    <$500,000\n",
       "6      AL06   671829.0       0.0  <$1,000,000\n",
       "7      AL07  1395268.0       0.0  <$1,500,000\n",
       "8      AKAL  2322104.0       1.0  <$2,500,000\n",
       "9      AZ01  2340403.0       0.0  <$2,500,000\n",
       "10     AZ02  1864776.0       0.0  <$2,000,000"
      ]
     },
     "execution_count": 11,
     "metadata": {},
     "output_type": "execute_result"
    }
   ],
   "source": [
    "for index, row in df.iterrows():\n",
    "    if row['At-Large'] == 1.0:\n",
    "        df.at[index, 'District'] = row['District'][0:2] + \"AL\"\n",
    "df.head(10)"
   ]
  },
  {
   "cell_type": "code",
   "execution_count": 12,
   "metadata": {
    "collapsed": true
   },
   "outputs": [],
   "source": [
    "colors = {1: \"#ffffff\", 2: \"#efefef\", 3:\"#dfdfdf\", 4:\"#cfcfcf\", 5: \"#bfbfbf\", \n",
    "          6:\"#afafaf\", 7: \"#9f9f9f\", 8: \"#8f8f8f\", 9: \"#7f7f7f\", 10: \"#6f6f6f\", \n",
    "          11: \"#5f5f5f\", 12: \"#4f4f4f\", 13: \"#3f3f3f\", 14: \"#2f2f2f\", 15: \"#1f1f1f\"}\n",
    "bins = {1: \"<$500,000\", 2: \"<$1,000,000\", 3:\"<$1,500,000\", 4:\"<$2,000,000\", 5: \"<$2,500,000\", \n",
    "          6:\"<$3,000,000\", 7: \"<$3,500,000\", 8: \"<$4,000,000\", 9: \"<$4,500,000\", 10: \"<$5,000,000\", \n",
    "          11: \"<$5,500,000\", 12: \"<$6,000,000\", 13: \"<$6,500,000\", 14: \"<$7,000,000\", 15: \">$7,000,000\"}"
   ]
  },
  {
   "cell_type": "code",
   "execution_count": 13,
   "metadata": {
    "collapsed": false
   },
   "outputs": [
    {
     "name": "stdout",
     "output_type": "stream",
     "text": [
      "{'groups': {'#ffffff': {'div': '#box0', 'label': '<$500,000', 'paths': ['AL05', 'AZ03', 'CA11', 'CA32', 'CA35', 'CA47', 'CA51', 'CO04', 'CO05', 'FL02', 'FL05', 'FL11', 'FL17', 'FL20', 'FL24', 'GA04', 'GA10', 'HI01', 'ID01', 'IL01', 'IL07', 'IL15', 'IN04', 'KY01', 'KY03', 'KY05', 'LA03', 'LA05', 'ME01', 'MD03', 'MA09', 'NV01', 'NJ08', 'NJ10', 'NJ12', 'NC12', 'OH11', 'TN04', 'TN09', 'TX09', 'TX20', 'TX29', 'TX30', 'VA03', 'VA04', 'VA06']}, '#efefef': {'div': '#box1', 'label': '<$1,000,000', 'paths': ['AL03', 'AL04', 'AL06', 'AZ04', 'AZ05', 'AR01', 'AR03', 'AR04', 'CA02', 'CA03', 'CA06', 'CA09', 'CA14', 'CA27', 'CA29', 'CA30', 'CA34', 'CA38', 'CA40', 'CA41', 'CA44', 'CA46', 'CO01', 'CO02', 'CO07', 'CT01', 'CT02', 'CT04', 'DEAL', 'FL04', 'FL08', 'FL09', 'FL10', 'FL12', 'FL14', 'GA02', 'GA08', 'GA09', 'GA11', 'GA12', 'GA13', 'HI02', 'ID02', 'IL04', 'IL05', 'IN07', 'IN08', 'IN09', 'KY02', 'LA02', 'LA04', 'LA06', 'MD02', 'MD04', 'MA02', 'MI04', 'MI09', 'MI14', 'MN04', 'MS01', 'MS02', 'MS03', 'MS04', 'MO01', 'MO05', 'MO07', 'NE01', 'NE03', 'NV02', 'NY04', 'NY07', 'NY13', 'NY25', 'NY26', 'NC02', 'NC04', 'NC11', 'NDAL', 'OH07', 'OH08', 'OH09', 'OH13', 'OK01', 'OK03', 'OR01', 'PA02', 'PA03', 'PA04', 'PA05', 'PA09', 'PA11', 'PA13', 'PA14', 'PA15', 'PA18', 'RI02', 'SC03', 'SC04', 'SC05', 'TN01', 'TN02', 'TN03', 'TN05', 'TN06', 'TN07', 'TX01', 'TX04', 'TX06', 'TX14', 'TX15', 'TX16', 'TX18', 'TX27', 'TX34', 'TX35', 'TX36', 'UT02', 'UT03', 'VA09', 'WA02', 'WA04', 'WA09', 'WV01', 'WV03', 'WI02', 'WI04', 'WI05']}, '#dfdfdf': {'div': '#box2', 'label': '<$1,500,000', 'paths': ['AL07', 'AZ07', 'AZ09', 'CA05', 'CA07', 'CA13', 'CA19', 'CA20', 'CA26', 'CA33', 'CA37', 'CA42', 'CT03', 'CT05', 'FL06', 'FL22', 'FL23', 'FL25', 'IL02', 'IL09', 'IL11', 'IL12', 'IL16', 'IN01', 'IN03', 'KS04', 'KY04', 'MD01', 'MD08', 'MA03', 'MA05', 'MA06', 'MA07', 'MA08', 'MI01', 'MI05', 'MI10', 'MI12', 'MN03', 'MO03', 'MO04', 'MO06', 'MO08', 'NJ04', 'NJ09', 'NM01', 'NY05', 'NY06', 'NY09', 'NY20', 'NC01', 'NC03', 'NC05', 'NC06', 'NC07', 'OH02', 'OH05', 'OH06', 'OH10', 'OH16', 'OK02', 'OK04', 'OR03', 'PA12', 'RI01', 'SC07', 'SDAL', 'TN08', 'TX05', 'TX13', 'TX17', 'TX19', 'TX26', 'TX33', 'UT01', 'VTAL', 'VA01', 'VA08', 'VA11', 'WA01', 'WA10', 'WV02', 'WI03', 'WI06']}, '#cfcfcf': {'div': '#box3', 'label': '<$2,000,000', 'paths': ['AZ02', 'AZ08', 'CA01', 'CA08', 'CA15', 'CA16', 'CA18', 'CA31', 'CA36', 'CA52', 'FL01', 'FL03', 'FL15', 'FL21', 'GA01', 'GA03', 'IN02', 'IN06', 'IA02', 'KS01', 'KS02', 'MI02', 'MI07', 'MN06', 'MN08', 'NJ01', 'NY02', 'NC10', 'NC13', 'OH03', 'OH12', 'OR05', 'PA16', 'SC02', 'SC06', 'TX11', 'TX25', 'TX31', 'WA06', 'WA07', 'WYAL']}, '#bfbfbf': {'div': '#box4', 'label': '<$2,500,000', 'paths': ['AL01', 'AL02', 'AKAL', 'AZ01', 'AR02', 'CA04', 'CA24', 'FL07', 'IL03', 'IL10', 'IL18', 'MD06', 'MD07', 'MI03', 'MI13', 'MN07', 'NH01', 'NH02', 'NJ06', 'NY03', 'NY12', 'NY18', 'NC08', 'OH01', 'OH14', 'OH15', 'OR04', 'PA07', 'PA17', 'TX03', 'TX08', 'TX28', 'WA05', 'WI01', 'WI08']}, '#afafaf': {'div': '#box5', 'label': '<$3,000,000', 'paths': ['CA17', 'CA43', 'CO03', 'FL16', 'GA05', 'GA14', 'IA04', 'MI06', 'MN01', 'NY08', 'NY10', 'NY15', 'NY16', 'NY23', 'NY27', 'OR02', 'PA01', 'PA06', 'PA08', 'PA10', 'TX12', 'TX24', 'WA08', 'WI07']}, '#9f9f9f': {'div': '#box6', 'label': '<$3,500,000', 'paths': ['AZ06', 'CO06', 'FL18', 'FL27', 'IL17', 'IN05', 'KY06', 'ME02', 'MD05', 'MN02', 'NE02', 'NV04', 'NY17', 'NC09', 'VA10']}, '#8f8f8f': {'div': '#box7', 'label': '<$4,000,000', 'paths': ['CA21', 'CA39', 'CA49', 'FL13', 'FL26', 'MA01', 'MI11', 'MO02', 'MTAL', 'NV03', 'NJ03', 'NJ11', 'NY19', 'NY22', 'NY24', 'TX10', 'UT04', 'VA02', 'VA05', 'WA03']}, '#7f7f7f': {'div': '#box8', 'label': '<$4,500,000', 'paths': ['CA53', 'IL06', 'IL08', 'IA01', 'IA03', 'KS03', 'MA04', 'NJ02', 'NM03', 'TX23']}, '#6f6f6f': {'div': '#box9', 'label': '<$5,000,000', 'paths': ['CA25', 'IL13', 'MI08', 'TX32']}, '#5f5f5f': {'div': '#box10', 'label': '<$5,500,000', 'paths': ['CA10', 'CA48', 'IL14', 'NJ07', 'SC01', 'TX07', 'TX21', 'VA07']}, '#4f4f4f': {'div': '#box11', 'label': '<$6,000,000', 'paths': ['GA06', 'MN05', 'NJ05', 'NM02', 'NY01', 'OK05']}, '#3f3f3f': {'div': '#box12', 'label': '<$6,500,000', 'paths': ['FL19', 'NY11', 'OH04', 'TX22']}, '#2f2f2f': {'div': '#box13', 'label': '<$7,000,000', 'paths': ['CA45']}, '#1f1f1f': {'div': '#box14', 'label': '>$7,000,000', 'paths': ['CA12', 'CA22', 'CA23', 'CA28', 'CA50', 'GA07', 'LA01', 'NY14', 'NY21', 'TX02']}}, 'title': 'Total Fundraising for a District', 'hidden': [], 'background': '#0000ff', 'borders': '#000000'}\n"
     ]
    }
   ],
   "source": [
    "data = {}\n",
    "groups = {}\n",
    "for bin in range(1, 16):\n",
    "    group = {}\n",
    "    group[\"div\"] = \"#box{}\".format(bin-1)\n",
    "    group[\"label\"] = bins[bin]\n",
    "    group[\"paths\"] = list(df.loc[df['Bin'] == bins[bin]]['District'])\n",
    "    groups[colors[bin]] = group\n",
    "data[\"groups\"] = groups\n",
    "data[\"title\"] = \"Total Fundraising for a District\"\n",
    "data[\"hidden\"] = []\n",
    "data[\"background\"] = \"#0000ff\"\n",
    "data[\"borders\"] = \"#000000\"\n",
    "print(data)"
   ]
  },
  {
   "cell_type": "code",
   "execution_count": 14,
   "metadata": {
    "collapsed": true
   },
   "outputs": [],
   "source": [
    "#NOTE: You need to replace the single quotes with double quotes for it to work with map chart"
   ]
  },
  {
   "cell_type": "code",
   "execution_count": 15,
   "metadata": {
    "collapsed": false
   },
   "outputs": [
    {
     "name": "stdout",
     "output_type": "stream",
     "text": [
      "['AL01', 'AL02', 'AL03', 'AL04', 'AL05', 'AL06', 'AL07', 'AKAL', 'AZ01', 'AZ02', 'AZ03', 'AZ04', 'AZ05', 'AZ06', 'AZ07', 'AZ08', 'AZ09', 'AR01', 'AR02', 'AR03', 'AR04', 'CA01', 'CA02', 'CA03', 'CA04', 'CA05', 'CA06', 'CA07', 'CA08', 'CA09', 'CA10', 'CA11', 'CA12', 'CA13', 'CA14', 'CA15', 'CA16', 'CA17', 'CA18', 'CA19', 'CA20', 'CA21', 'CA22', 'CA23', 'CA24', 'CA25', 'CA26', 'CA27', 'CA28', 'CA29', 'CA30', 'CA31', 'CA32', 'CA33', 'CA34', 'CA35', 'CA36', 'CA37', 'CA38', 'CA39', 'CA40', 'CA41', 'CA42', 'CA43', 'CA44', 'CA45', 'CA46', 'CA47', 'CA48', 'CA49', 'CA50', 'CA51', 'CA52', 'CA53', 'CO01', 'CO02', 'CO03', 'CO04', 'CO05', 'CO06', 'CO07', 'CT01', 'CT02', 'CT03', 'CT04', 'CT05', 'DEAL', 'FL01', 'FL02', 'FL03', 'FL04', 'FL05', 'FL06', 'FL07', 'FL08', 'FL09', 'FL10', 'FL11', 'FL12', 'FL13', 'FL14', 'FL15', 'FL16', 'FL17', 'FL18', 'FL19', 'FL20', 'FL21', 'FL22', 'FL23', 'FL24', 'FL25', 'FL26', 'FL27', 'GA01', 'GA02', 'GA03', 'GA04', 'GA05', 'GA06', 'GA07', 'GA08', 'GA09', 'GA10', 'GA11', 'GA12', 'GA13', 'GA14', 'HI01', 'HI02', 'ID01', 'ID02', 'IL01', 'IL02', 'IL03', 'IL04', 'IL05', 'IL06', 'IL07', 'IL08', 'IL09', 'IL10', 'IL11', 'IL12', 'IL13', 'IL14', 'IL15', 'IL16', 'IL17', 'IL18', 'IN01', 'IN02', 'IN03', 'IN04', 'IN05', 'IN06', 'IN07', 'IN08', 'IN09', 'IA01', 'IA02', 'IA03', 'IA04', 'KS01', 'KS02', 'KS03', 'KS04', 'KY01', 'KY02', 'KY03', 'KY04', 'KY05', 'KY06', 'LA01', 'LA02', 'LA03', 'LA04', 'LA05', 'LA06', 'ME01', 'ME02', 'MD01', 'MD02', 'MD03', 'MD04', 'MD05', 'MD06', 'MD07', 'MD08', 'MA01', 'MA02', 'MA03', 'MA04', 'MA05', 'MA06', 'MA07', 'MA08', 'MA09', 'MI01', 'MI02', 'MI03', 'MI04', 'MI05', 'MI06', 'MI07', 'MI08', 'MI09', 'MI10', 'MI11', 'MI12', 'MI13', 'MI14', 'MN01', 'MN02', 'MN03', 'MN04', 'MN05', 'MN06', 'MN07', 'MN08', 'MS01', 'MS02', 'MS03', 'MS04', 'MO01', 'MO02', 'MO03', 'MO04', 'MO05', 'MO06', 'MO07', 'MO08', 'MTAL', 'NE01', 'NE02', 'NE03', 'NV01', 'NV02', 'NV03', 'NV04', 'NH01', 'NH02', 'NJ01', 'NJ02', 'NJ03', 'NJ04', 'NJ05', 'NJ06', 'NJ07', 'NJ08', 'NJ09', 'NJ10', 'NJ11', 'NJ12', 'NM01', 'NM02', 'NM03', 'NY01', 'NY02', 'NY03', 'NY04', 'NY05', 'NY06', 'NY07', 'NY08', 'NY09', 'NY10', 'NY11', 'NY12', 'NY13', 'NY14', 'NY15', 'NY16', 'NY17', 'NY18', 'NY19', 'NY20', 'NY21', 'NY22', 'NY23', 'NY24', 'NY25', 'NY26', 'NY27', 'NC01', 'NC02', 'NC03', 'NC04', 'NC05', 'NC06', 'NC07', 'NC08', 'NC09', 'NC10', 'NC11', 'NC12', 'NC13', 'NDAL', 'OH01', 'OH02', 'OH03', 'OH04', 'OH05', 'OH06', 'OH07', 'OH08', 'OH09', 'OH10', 'OH11', 'OH12', 'OH13', 'OH14', 'OH15', 'OH16', 'OK01', 'OK02', 'OK03', 'OK04', 'OK05', 'OR01', 'OR02', 'OR03', 'OR04', 'OR05', 'PA01', 'PA02', 'PA03', 'PA04', 'PA05', 'PA06', 'PA07', 'PA08', 'PA09', 'PA10', 'PA11', 'PA12', 'PA13', 'PA14', 'PA15', 'PA16', 'PA17', 'PA18', 'RI01', 'RI02', 'SC01', 'SC02', 'SC03', 'SC04', 'SC05', 'SC06', 'SC07', 'SDAL', 'TN01', 'TN02', 'TN03', 'TN04', 'TN05', 'TN06', 'TN07', 'TN08', 'TN09', 'TX01', 'TX02', 'TX03', 'TX04', 'TX05', 'TX06', 'TX07', 'TX08', 'TX09', 'TX10', 'TX11', 'TX12', 'TX13', 'TX14', 'TX15', 'TX16', 'TX17', 'TX18', 'TX19', 'TX20', 'TX21', 'TX22', 'TX23', 'TX24', 'TX25', 'TX26', 'TX27', 'TX28', 'TX29', 'TX30', 'TX31', 'TX32', 'TX33', 'TX34', 'TX35', 'TX36', 'UT01', 'UT02', 'UT03', 'UT04', 'VTAL', 'VA01', 'VA02', 'VA03', 'VA04', 'VA05', 'VA06', 'VA07', 'VA08', 'VA09', 'VA10', 'VA11', 'WA01', 'WA02', 'WA03', 'WA04', 'WA05', 'WA06', 'WA07', 'WA08', 'WA09', 'WA10', 'WV01', 'WV02', 'WV03', 'WI01', 'WI02', 'WI03', 'WI04', 'WI05', 'WI06', 'WI07', 'WI08', 'WYAL']\n"
     ]
    }
   ],
   "source": [
    "print(list(df['District']))"
   ]
  },
  {
   "cell_type": "code",
   "execution_count": null,
   "metadata": {
    "collapsed": true
   },
   "outputs": [],
   "source": []
  }
 ],
 "metadata": {
  "anaconda-cloud": {},
  "kernelspec": {
   "display_name": "Python 3",
   "language": "python",
   "name": "python3"
  },
  "language_info": {
   "codemirror_mode": {
    "name": "ipython",
    "version": 3
   },
   "file_extension": ".py",
   "mimetype": "text/x-python",
   "name": "python",
   "nbconvert_exporter": "python",
   "pygments_lexer": "ipython3",
   "version": "3.7.0"
  }
 },
 "nbformat": 4,
 "nbformat_minor": 2
}
